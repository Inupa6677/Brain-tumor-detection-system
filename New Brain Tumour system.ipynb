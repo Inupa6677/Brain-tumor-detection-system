{
 "cells": [
  {
   "cell_type": "code",
   "execution_count": 2,
   "id": "d0f87838",
   "metadata": {},
   "outputs": [],
   "source": [
    "import os\n",
    "import cv2\n",
    "import numpy as np\n",
    "import pandas as pd\n",
    "import matplotlib.pyplot as plt\n",
    "from sklearn.model_selection import train_test_split\n",
    "from sklearn.metrics import classification_report, confusion_matrix, roc_curve, auc\n",
    "from tensorflow.keras.models import Sequential, Model\n",
    "from tensorflow.keras.layers import Conv2D, MaxPooling2D, Flatten, Dense, Dropout, Input\n",
    "from tensorflow.keras.applications import VGG16\n",
    "from tensorflow.keras.utils import to_categorical\n",
    "from tensorflow.keras.preprocessing.image import ImageDataGenerator"
   ]
  },
  {
   "cell_type": "code",
   "execution_count": null,
   "id": "12bb6c7c",
   "metadata": {},
   "outputs": [],
   "source": []
  },
  {
   "cell_type": "code",
   "execution_count": null,
   "id": "3bc12f53",
   "metadata": {},
   "outputs": [],
   "source": [
    "\n"
   ]
  },
  {
   "cell_type": "code",
   "execution_count": 5,
   "id": "7728aaf6",
   "metadata": {},
   "outputs": [
    {
     "name": "stdout",
     "output_type": "stream",
     "text": [
      "Found 253 files belonging to 2 classes.\n",
      "Total images: 253\n",
      "No tumor images: 98\n",
      "Yes tumor images: 155\n",
      "Labels shape: (253,)\n"
     ]
    }
   ],
   "source": [
    "import tensorflow as tf\n",
    "import numpy as np\n",
    "import os\n",
    "\n",
    "# Load the dataset\n",
    "dataset = tf.keras.preprocessing.image_dataset_from_directory(\n",
    "    'C:/Users/MSI KATANA/Desktop/practice ML/brain tumour detection system/brain_tumor_dataset',\n",
    "    image_size=(128, 128),  # Resize to 128x128 to match the example\n",
    "    batch_size=32,\n",
    "    shuffle=False  # Keep the data in order to easily split by class\n",
    ")\n",
    "\n",
    "# Initialize lists to store images and labels for each class\n",
    "no_tumor_images = []\n",
    "yes_tumor_images = []\n",
    "\n",
    "# Iterate through the dataset and separate the images and labels based on class\n",
    "for images, labels in dataset:\n",
    "    images_np = images.numpy()\n",
    "    labels_np = labels.numpy()\n",
    "\n",
    "    # Separate images into 'no' and 'yes' classes based on labels\n",
    "    for i, label in enumerate(labels_np):\n",
    "        if label == 0:  # Assuming 0 is for 'no' class\n",
    "            no_tumor_images.append(images_np[i])\n",
    "        elif label == 1:  # Assuming 1 is for 'yes' class\n",
    "            yes_tumor_images.append(images_np[i])\n",
    "\n",
    "# Convert lists to numpy arrays\n",
    "no_tumor_images = np.array(no_tumor_images)\n",
    "yes_tumor_images = np.array(yes_tumor_images)\n",
    "\n",
    "# Create labels for each class\n",
    "no_tumor_labels = np.zeros(len(no_tumor_images), dtype=int)\n",
    "yes_tumor_labels = np.ones(len(yes_tumor_images), dtype=int)\n",
    "\n",
    "# Combine data and labels\n",
    "X = np.concatenate((no_tumor_images, yes_tumor_images), axis=0)\n",
    "y = np.concatenate((no_tumor_labels, yes_tumor_labels), axis=0)\n",
    "\n",
    "# Print shapes to verify\n",
    "print(f'Total images: {X.shape[0]}')\n",
    "print(f'No tumor images: {no_tumor_images.shape[0]}')\n",
    "print(f'Yes tumor images: {yes_tumor_images.shape[0]}')\n",
    "print(f'Labels shape: {y.shape}')\n"
   ]
  },
  {
   "cell_type": "code",
   "execution_count": 8,
   "id": "75abc63d",
   "metadata": {},
   "outputs": [],
   "source": [
    "# Data Preprocessing\n",
    "X = X / 255.0\n",
    "y = to_categorical(y, num_classes=2)\n"
   ]
  },
  {
   "cell_type": "code",
   "execution_count": 9,
   "id": "fb024afc",
   "metadata": {},
   "outputs": [],
   "source": [
    "# Split data into training and testing sets\n",
    "X_train, X_test, y_train, y_test = train_test_split(X, y, test_size=0.2, random_state=42)"
   ]
  },
  {
   "cell_type": "code",
   "execution_count": 10,
   "id": "de0b135d",
   "metadata": {},
   "outputs": [],
   "source": [
    "# Data augmentation\n",
    "datagen = ImageDataGenerator(\n",
    "    rotation_range=30,\n",
    "    width_shift_range=0.2,\n",
    "    height_shift_range=0.2,\n",
    "    shear_range=0.2,\n",
    "    zoom_range=0.2,\n",
    "    horizontal_flip=True,\n",
    "    fill_mode='nearest'\n",
    ")\n",
    "datagen.fit(X_train)"
   ]
  },
  {
   "cell_type": "code",
   "execution_count": 11,
   "id": "2058c971",
   "metadata": {},
   "outputs": [
    {
     "name": "stdout",
     "output_type": "stream",
     "text": [
      "WARNING:tensorflow:From C:\\Users\\MSI KATANA\\anaconda3\\Lib\\site-packages\\keras\\src\\backend.py:1398: The name tf.executing_eagerly_outside_functions is deprecated. Please use tf.compat.v1.executing_eagerly_outside_functions instead.\n",
      "\n",
      "WARNING:tensorflow:From C:\\Users\\MSI KATANA\\anaconda3\\Lib\\site-packages\\keras\\src\\layers\\pooling\\max_pooling2d.py:161: The name tf.nn.max_pool is deprecated. Please use tf.nn.max_pool2d instead.\n",
      "\n",
      "Downloading data from https://storage.googleapis.com/tensorflow/keras-applications/vgg16/vgg16_weights_tf_dim_ordering_tf_kernels_notop.h5\n",
      "58889256/58889256 [==============================] - 15s 0us/step\n"
     ]
    }
   ],
   "source": [
    "# Use Transfer Learning (VGG16)\n",
    "base_model = VGG16(weights='imagenet', include_top=False, input_shape=(128, 128, 3))\n",
    "base_model.trainable = False"
   ]
  },
  {
   "cell_type": "code",
   "execution_count": 12,
   "id": "6548c8ce",
   "metadata": {},
   "outputs": [
    {
     "name": "stdout",
     "output_type": "stream",
     "text": [
      "WARNING:tensorflow:From C:\\Users\\MSI KATANA\\anaconda3\\Lib\\site-packages\\keras\\src\\optimizers\\__init__.py:309: The name tf.train.Optimizer is deprecated. Please use tf.compat.v1.train.Optimizer instead.\n",
      "\n"
     ]
    }
   ],
   "source": [
    "# Add custom layers\n",
    "input_layer = Input(shape=(128, 128, 3))\n",
    "x = base_model(input_layer, training=False)\n",
    "x = Flatten()(x)\n",
    "x = Dense(256, activation='relu')(x)\n",
    "x = Dropout(0.5)(x)\n",
    "output_layer = Dense(2, activation='softmax')(x)\n",
    "\n",
    "model = Model(inputs=input_layer, outputs=output_layer)\n",
    "model.compile(optimizer='adam', loss='categorical_crossentropy', metrics=['accuracy'])"
   ]
  },
  {
   "cell_type": "code",
   "execution_count": 13,
   "id": "7407b36e",
   "metadata": {},
   "outputs": [
    {
     "name": "stdout",
     "output_type": "stream",
     "text": [
      "Epoch 1/25\n",
      "WARNING:tensorflow:From C:\\Users\\MSI KATANA\\anaconda3\\Lib\\site-packages\\keras\\src\\utils\\tf_utils.py:492: The name tf.ragged.RaggedTensorValue is deprecated. Please use tf.compat.v1.ragged.RaggedTensorValue instead.\n",
      "\n",
      "WARNING:tensorflow:From C:\\Users\\MSI KATANA\\anaconda3\\Lib\\site-packages\\keras\\src\\engine\\base_layer_utils.py:384: The name tf.executing_eagerly_outside_functions is deprecated. Please use tf.compat.v1.executing_eagerly_outside_functions instead.\n",
      "\n",
      "7/7 [==============================] - 7s 930ms/step - loss: 1.2987 - accuracy: 0.5891 - val_loss: 1.1481 - val_accuracy: 0.4314\n",
      "Epoch 2/25\n",
      "7/7 [==============================] - 5s 730ms/step - loss: 1.2059 - accuracy: 0.5990 - val_loss: 0.4148 - val_accuracy: 0.8431\n",
      "Epoch 3/25\n",
      "7/7 [==============================] - 5s 744ms/step - loss: 0.8692 - accuracy: 0.6485 - val_loss: 0.5593 - val_accuracy: 0.7843\n",
      "Epoch 4/25\n",
      "7/7 [==============================] - 5s 753ms/step - loss: 0.8060 - accuracy: 0.6931 - val_loss: 0.4267 - val_accuracy: 0.8627\n",
      "Epoch 5/25\n",
      "7/7 [==============================] - 5s 744ms/step - loss: 0.6342 - accuracy: 0.7079 - val_loss: 0.4261 - val_accuracy: 0.7647\n",
      "Epoch 6/25\n",
      "7/7 [==============================] - 5s 784ms/step - loss: 0.5548 - accuracy: 0.7277 - val_loss: 0.4115 - val_accuracy: 0.8824\n",
      "Epoch 7/25\n",
      "7/7 [==============================] - 5s 780ms/step - loss: 0.4724 - accuracy: 0.7822 - val_loss: 0.3989 - val_accuracy: 0.8039\n",
      "Epoch 8/25\n",
      "7/7 [==============================] - 5s 765ms/step - loss: 0.5336 - accuracy: 0.7327 - val_loss: 0.3285 - val_accuracy: 0.9020\n",
      "Epoch 9/25\n",
      "7/7 [==============================] - 5s 858ms/step - loss: 0.5082 - accuracy: 0.7327 - val_loss: 0.3046 - val_accuracy: 0.9020\n",
      "Epoch 10/25\n",
      "7/7 [==============================] - 5s 850ms/step - loss: 0.4623 - accuracy: 0.7772 - val_loss: 0.3110 - val_accuracy: 0.8824\n",
      "Epoch 11/25\n",
      "7/7 [==============================] - 5s 760ms/step - loss: 0.4559 - accuracy: 0.7871 - val_loss: 0.3259 - val_accuracy: 0.8627\n",
      "Epoch 12/25\n",
      "7/7 [==============================] - 6s 801ms/step - loss: 0.4423 - accuracy: 0.8168 - val_loss: 0.3331 - val_accuracy: 0.8627\n",
      "Epoch 13/25\n",
      "7/7 [==============================] - 6s 800ms/step - loss: 0.4466 - accuracy: 0.8119 - val_loss: 0.3334 - val_accuracy: 0.8431\n",
      "Epoch 14/25\n",
      "7/7 [==============================] - 5s 779ms/step - loss: 0.4323 - accuracy: 0.7871 - val_loss: 0.2940 - val_accuracy: 0.8824\n",
      "Epoch 15/25\n",
      "7/7 [==============================] - 6s 804ms/step - loss: 0.4642 - accuracy: 0.7822 - val_loss: 0.3086 - val_accuracy: 0.8431\n",
      "Epoch 16/25\n",
      "7/7 [==============================] - 6s 801ms/step - loss: 0.4328 - accuracy: 0.8020 - val_loss: 0.2898 - val_accuracy: 0.8824\n",
      "Epoch 17/25\n",
      "7/7 [==============================] - 5s 776ms/step - loss: 0.3898 - accuracy: 0.8218 - val_loss: 0.2979 - val_accuracy: 0.8627\n",
      "Epoch 18/25\n",
      "7/7 [==============================] - 6s 809ms/step - loss: 0.4039 - accuracy: 0.8168 - val_loss: 0.3212 - val_accuracy: 0.8627\n",
      "Epoch 19/25\n",
      "7/7 [==============================] - 6s 811ms/step - loss: 0.3804 - accuracy: 0.8267 - val_loss: 0.3061 - val_accuracy: 0.8824\n",
      "Epoch 20/25\n",
      "7/7 [==============================] - 5s 782ms/step - loss: 0.4367 - accuracy: 0.7921 - val_loss: 0.3010 - val_accuracy: 0.8627\n",
      "Epoch 21/25\n",
      "7/7 [==============================] - 6s 892ms/step - loss: 0.3959 - accuracy: 0.8366 - val_loss: 0.3000 - val_accuracy: 0.8824\n",
      "Epoch 22/25\n",
      "7/7 [==============================] - 5s 786ms/step - loss: 0.4450 - accuracy: 0.7871 - val_loss: 0.3040 - val_accuracy: 0.8627\n",
      "Epoch 23/25\n",
      "7/7 [==============================] - 6s 805ms/step - loss: 0.4273 - accuracy: 0.7921 - val_loss: 0.3280 - val_accuracy: 0.8824\n",
      "Epoch 24/25\n",
      "7/7 [==============================] - 6s 822ms/step - loss: 0.4346 - accuracy: 0.8267 - val_loss: 0.2992 - val_accuracy: 0.8627\n",
      "Epoch 25/25\n",
      "7/7 [==============================] - 6s 881ms/step - loss: 0.3834 - accuracy: 0.8366 - val_loss: 0.2758 - val_accuracy: 0.8627\n"
     ]
    }
   ],
   "source": [
    "# Model training\n",
    "history = model.fit(datagen.flow(X_train, y_train, batch_size=32), epochs=25, validation_data=(X_test, y_test))"
   ]
  },
  {
   "cell_type": "code",
   "execution_count": null,
   "id": "11b8f06a",
   "metadata": {},
   "outputs": [],
   "source": [
    "# Model evaluation\n",
    "y_pred = model.predict(X_test)\n",
    "y_pred_classes = np.argmax(y_pred, axis=1)\n",
    "y_true = np.argmax(y_test, axis=1)"
   ]
  },
  {
   "cell_type": "code",
   "execution_count": null,
   "id": "8f46c53f",
   "metadata": {},
   "outputs": [],
   "source": []
  }
 ],
 "metadata": {
  "kernelspec": {
   "display_name": "Python 3 (ipykernel)",
   "language": "python",
   "name": "python3"
  },
  "language_info": {
   "codemirror_mode": {
    "name": "ipython",
    "version": 3
   },
   "file_extension": ".py",
   "mimetype": "text/x-python",
   "name": "python",
   "nbconvert_exporter": "python",
   "pygments_lexer": "ipython3",
   "version": "3.11.5"
  }
 },
 "nbformat": 4,
 "nbformat_minor": 5
}
